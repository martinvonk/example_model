{
 "cells": [
  {
   "cell_type": "markdown",
   "id": "75747772",
   "metadata": {},
   "source": [
    "# Download Data Workflow"
   ]
  },
  {
   "cell_type": "markdown",
   "id": "4c7e7a54",
   "metadata": {},
   "source": [
    "## Setup\n",
    "\n",
    "### Dependencies"
   ]
  },
  {
   "cell_type": "code",
   "execution_count": null,
   "id": "297d727e",
   "metadata": {},
   "outputs": [],
   "source": [
    "import logging\n",
    "\n",
    "logger = logging.getLogger(__name__)"
   ]
  },
  {
   "cell_type": "markdown",
   "id": "484d701f",
   "metadata": {},
   "source": [
    "### Constants"
   ]
  },
  {
   "cell_type": "code",
   "execution_count": null,
   "id": "7f48da94",
   "metadata": {},
   "outputs": [],
   "source": [
    "from settings import extent, paths"
   ]
  },
  {
   "cell_type": "markdown",
   "id": "f8a0d7fa",
   "metadata": {},
   "source": [
    "## Download data\n",
    "\n",
    "### Open data\n",
    "\n",
    "A lot of open data can be download via nlmod."
   ]
  },
  {
   "cell_type": "code",
   "execution_count": null,
   "id": "6c307b6c",
   "metadata": {},
   "outputs": [],
   "source": [
    "import nlmod"
   ]
  },
  {
   "cell_type": "markdown",
   "id": "468195d4",
   "metadata": {},
   "source": [
    "#### AHN"
   ]
  },
  {
   "cell_type": "code",
   "execution_count": null,
   "id": "e03a4353",
   "metadata": {},
   "outputs": [],
   "source": [
    "ahn = nlmod.read.ahn.download_ahn(\n",
    "    extent=extent, cachedir=paths[\"downloads\"], cachename=\"ahn\"\n",
    ")\n",
    "ahn"
   ]
  },
  {
   "cell_type": "markdown",
   "id": "94878e00",
   "metadata": {},
   "source": [
    "#### BGT"
   ]
  },
  {
   "cell_type": "code",
   "execution_count": null,
   "id": "fcc2ae2f",
   "metadata": {},
   "outputs": [],
   "source": [
    "bgt = nlmod.read.bgt.download_bgt(extent=extent)\n",
    "bgt.to_file(paths[\"downloads\"] / \"bgt.geojson\")\n",
    "bgt.plot(column=\"bronhouder_name\", legend=True)"
   ]
  },
  {
   "cell_type": "markdown",
   "id": "faee9911",
   "metadata": {},
   "source": [
    "### REGIS II"
   ]
  },
  {
   "cell_type": "code",
   "execution_count": null,
   "id": "4eb47dc6",
   "metadata": {},
   "outputs": [],
   "source": [
    "regis = nlmod.read.download_regis(extent=extent)\n",
    "regis.to_netcdf(paths[\"downloads\"] / \"regis.nc\")\n",
    "regis"
   ]
  },
  {
   "cell_type": "markdown",
   "id": "255f0998",
   "metadata": {},
   "source": [
    "### ZLFO data"
   ]
  },
  {
   "cell_type": "code",
   "execution_count": null,
   "id": "e9d88790",
   "metadata": {},
   "outputs": [],
   "source": [
    "# from zlflodata import ..."
   ]
  },
  {
   "cell_type": "code",
   "execution_count": null,
   "id": "cffe3b5c",
   "metadata": {},
   "outputs": [],
   "source": [
    "# CAN YOU ADD SOMETHING @onnoebbens?"
   ]
  },
  {
   "cell_type": "markdown",
   "id": "fa154b08",
   "metadata": {},
   "source": [
    "### Private data"
   ]
  },
  {
   "cell_type": "code",
   "execution_count": null,
   "id": "dd0010d4",
   "metadata": {},
   "outputs": [],
   "source": [
    "from utils_wells import download_wells"
   ]
  },
  {
   "cell_type": "code",
   "execution_count": null,
   "id": "92a0819e",
   "metadata": {},
   "outputs": [],
   "source": [
    "gdf = download_wells()\n",
    "gdf.plot()"
   ]
  },
  {
   "cell_type": "code",
   "execution_count": null,
   "id": "e7e197b0",
   "metadata": {},
   "outputs": [],
   "source": [
    "gdf.to_file(paths[\"downloads\"] / \"wells.geojson\")"
   ]
  }
 ],
 "metadata": {
  "kernelspec": {
   "display_name": "example_model (3.13.5)",
   "language": "python",
   "name": "python3"
  },
  "language_info": {
   "codemirror_mode": {
    "name": "ipython",
    "version": 3
   },
   "file_extension": ".py",
   "mimetype": "text/x-python",
   "name": "python",
   "nbconvert_exporter": "python",
   "pygments_lexer": "ipython3",
   "version": "3.13.5"
  }
 },
 "nbformat": 4,
 "nbformat_minor": 5
}
