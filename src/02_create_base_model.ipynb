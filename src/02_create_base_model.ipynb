{
 "cells": [
  {
   "cell_type": "markdown",
   "id": "1cc49b66",
   "metadata": {},
   "source": [
    "# From data files to model dataset\n",
    "\n",
    "## Setup\n",
    "\n",
    "### Packages"
   ]
  },
  {
   "cell_type": "code",
   "execution_count": null,
   "id": "1a98d527",
   "metadata": {},
   "outputs": [],
   "source": [
    "import geopandas as gpd\n",
    "import nlmod\n",
    "import xarray as xr"
   ]
  },
  {
   "cell_type": "markdown",
   "id": "751bd573",
   "metadata": {},
   "source": [
    "### Constants"
   ]
  },
  {
   "cell_type": "code",
   "execution_count": null,
   "id": "1ad807d7",
   "metadata": {},
   "outputs": [],
   "source": [
    "import settings"
   ]
  },
  {
   "cell_type": "markdown",
   "id": "e5b4ee56",
   "metadata": {},
   "source": [
    "## Load data"
   ]
  },
  {
   "cell_type": "code",
   "execution_count": null,
   "id": "994805fe",
   "metadata": {},
   "outputs": [],
   "source": [
    "regis = xr.open_dataset(settings.paths[\"downloads\"] / \"regis.nc\")"
   ]
  },
  {
   "cell_type": "markdown",
   "id": "e00af7e2",
   "metadata": {},
   "source": [
    "## Build base model\n",
    "\n",
    "### Model dataset"
   ]
  },
  {
   "cell_type": "code",
   "execution_count": null,
   "id": "0d8a76a9",
   "metadata": {},
   "outputs": [],
   "source": [
    "ds = nlmod.to_model_ds(\n",
    "    regis,\n",
    "    settings.model_name,\n",
    "    settings.paths[\"models\"] / settings.model_name,\n",
    "    delr=settings.delr,\n",
    "    delc=settings.delc,\n",
    ")"
   ]
  },
  {
   "cell_type": "code",
   "execution_count": null,
   "id": "415b514f",
   "metadata": {},
   "outputs": [],
   "source": [
    "perlen = (settings.tmax - settings.tmin).days\n",
    "ds = nlmod.time.set_ds_time(\n",
    "    ds, start=settings.tmin, perlen=perlen, steady=settings.steady\n",
    ")"
   ]
  },
  {
   "cell_type": "markdown",
   "id": "14924216",
   "metadata": {},
   "source": [
    "### Model GeoDataFrame\n",
    "\n",
    "Create GeoDataFrame with cellids for water features"
   ]
  },
  {
   "cell_type": "code",
   "execution_count": null,
   "id": "d7c6eda1",
   "metadata": {},
   "outputs": [],
   "source": [
    "bgt = gpd.read_file(settings.paths[\"downloads\"] / \"bgt.geojson\")\n",
    "bgt_cid = nlmod.grid.gdf_to_grid(bgt, ds)\n",
    "bgt_cid.head(3)"
   ]
  },
  {
   "cell_type": "markdown",
   "id": "5136ce4d",
   "metadata": {},
   "source": [
    "#### Adding location specific \n",
    "\n",
    "Add project knowledge into the model"
   ]
  },
  {
   "cell_type": "markdown",
   "id": "d85f50f4",
   "metadata": {},
   "source": [
    "##### Wells"
   ]
  },
  {
   "cell_type": "code",
   "execution_count": null,
   "id": "3aad23e9",
   "metadata": {},
   "outputs": [],
   "source": [
    "wells = gpd.read_file(settings.paths[\"downloads\"] / \"wells.geojson\").set_index(\"name\")\n",
    "well_cid = nlmod.grid.gdf_to_grid(wells, ds)\n",
    "well_cid.head(5)"
   ]
  },
  {
   "cell_type": "markdown",
   "id": "2232e84b",
   "metadata": {},
   "source": [
    "##### K values after simple calibration"
   ]
  },
  {
   "cell_type": "code",
   "execution_count": 33,
   "id": "c2513329",
   "metadata": {},
   "outputs": [],
   "source": [
    "# ds.loc[{\"layer\": \"HLc\"}][\"kh\"]"
   ]
  },
  {
   "cell_type": "markdown",
   "id": "2f3a45e0",
   "metadata": {},
   "source": [
    "###### Resistance layer at location x"
   ]
  }
 ],
 "metadata": {
  "kernelspec": {
   "display_name": "example_model (3.13.5)",
   "language": "python",
   "name": "python3"
  },
  "language_info": {
   "codemirror_mode": {
    "name": "ipython",
    "version": 3
   },
   "file_extension": ".py",
   "mimetype": "text/x-python",
   "name": "python",
   "nbconvert_exporter": "python",
   "pygments_lexer": "ipython3",
   "version": "3.13.5"
  }
 },
 "nbformat": 4,
 "nbformat_minor": 5
}
